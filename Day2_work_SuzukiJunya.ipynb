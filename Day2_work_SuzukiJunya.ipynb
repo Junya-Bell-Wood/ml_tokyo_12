{
 "cells": [
  {
   "cell_type": "markdown",
   "metadata": {},
   "source": [
    "# [通し課題]\n",
    "\n",
    "8. DAY2、3で学んだことの取り組み • 交差検証、ホールドアウト法などで汎化性能を確認する  \n",
    " • 欠測値と異常値を確認し、適切に処理する  \n",
    " • DAY2、3で学んだアルゴリズムを利用してモデルをつくり、DAY1宿題提出時の精度と比較する  \n",
    " • 交差検証によるパラメータチューニングを行う  \n",
    " • パラメータチューニング後のモデルによって、精度および結果の評価を行う  \n",
    " • その他、精度の向上ができるような処理に取り組み、精度を上げる  \n",
    " • できたところまでをNotebookでまとめ、宿題として提出する  \n",
    " • 前回から取り組んだ内容・工夫、精度がどのように変化したかのコメントを Notebookに含めること  \n",
    " • 15分程度，受講者同士で通し課題の進捗を見せ合う時間を設けます  \n",
    "9. DAY4では、DAY3宿題の提出ファイルを元に、最終発表を実施いただ"
   ]
  },
  {
   "cell_type": "markdown",
   "metadata": {},
   "source": [
    "# 0. DAY1での実施事項\n"
   ]
  },
  {
   "cell_type": "code",
   "execution_count": 1,
   "metadata": {},
   "outputs": [
    {
     "name": "stdout",
     "output_type": "stream",
     "text": [
      "2996 19902\n",
      "103320 80771\n",
      "Accuracy  = 88.938%\n",
      "Recall    = 96.423%\n",
      "Precision = 80.231%\n"
     ]
    }
   ],
   "source": [
    "#********************************************************************\n",
    "# pandas,numpy,matplotlib,codecs,sklearnの各ライブラリをインポート\n",
    "#********************************************************************\n",
    "\n",
    "%matplotlib inline\n",
    "import pandas as pd\n",
    "import numpy as np\n",
    "import matplotlib.pyplot as plt\n",
    "import codecs as cd\n",
    "from sklearn.preprocessing import LabelEncoder\n",
    "from sklearn.linear_model import SGDClassifier\n",
    "from sklearn.metrics import log_loss, accuracy_score, confusion_matrix\n",
    "import seaborn as sns\n",
    "\n",
    "#********************************************************************\n",
    "#.該当課題のデータを読み込む\n",
    "#********************************************************************\n",
    "#201801のデータを読み込んでみる\n",
    "with cd.open('ks-projects-201801.csv', 'r', 'utf-8', 'ignore') as f18:\n",
    "    df_f18 = pd.read_csv(f18)\n",
    "#df_f18 = pd.read_csv('ks-projects-201801.csv')\n",
    "\n",
    "#********************************************************************\n",
    "#.欠損値がある行は、とりあえずなくしてみる\n",
    "#********************************************************************\n",
    "#１個でも欠損値がある行はとりあえず削除してみる。\n",
    "df_f18_dna = df_f18.dropna(how='any')\n",
    "\n",
    "#********************************************************************\n",
    "#.成功（'successful'）と失敗（'failed'）に絞って考える。\n",
    "#********************************************************************\n",
    "#成功だけを抽出したDFと失敗だけを抽出したDF\n",
    "df_f18_success = df_f18_dna[df_f18_dna['state']=='successful']\n",
    "df_f18_failed =  df_f18_dna[df_f18_dna['state']=='failed']\n",
    "#両方を結合\n",
    "df_f18_SorF = pd.concat([df_f18_success,df_f18_failed])\n",
    "\n",
    "#********************************************************************\n",
    "#.'state'をカテゴリ変数（文字列）から数値化してみる。\n",
    "#********************************************************************\n",
    "#LabelEncoderのインスタンスを生成\n",
    "le = LabelEncoder()\n",
    "\n",
    "#stateに出てくるカテゴリを覚えて\n",
    "#stateを数値に変換\n",
    "le = le.fit(df_f18_SorF['state'])\n",
    "df_f18_SorF['state'] = le.transform(df_f18_SorF['state'])\n",
    "\n",
    "#********************************************************************\n",
    "#.ロジスティック回帰で分類してみる。\n",
    "#　「goal」、「backers」を有効そうな説明変数とする。\n",
    "#********************************************************************\n",
    "#目的変数'state'を正解としてyに格納\n",
    "y = df_f18_SorF['state'].values\n",
    "#説明変数'goal','backers'を入力としてXに格納\n",
    "X = df_f18_SorF[['goal', 'backers']].values\n",
    "\n",
    "#ロジスティック回帰で学習\n",
    "clf = SGDClassifier(loss='log', penalty='none', max_iter=10000, fit_intercept=True, random_state=1234)\n",
    "clf.fit(X, y)\n",
    "\n",
    "#********************************************************************\n",
    "#.予測精度または識別精度を確認する\n",
    "#　混同行列を作成し、Accuracy、Recall、Precisionを求める\n",
    "#********************************************************************\n",
    "# 学習した結果を使って説明変数を入力して予測\n",
    "y_est = clf.predict(X)\n",
    "\n",
    "#混同行列を作成\n",
    "tn, fp, fn, tp = confusion_matrix(y, y_est).ravel()\n",
    "print(fn, fp)\n",
    "print(tn, tp)\n",
    "\n",
    "#'Accuracy、Recall、Precisionを求めて表示\n",
    "print('Accuracy  = {:.3f}%'.format(100 * (tn+tp)/(tn+fp+fn+tp)))\n",
    "print('Recall    = {:.3f}%'.format(100 * (tp)/(fn+tp)))\n",
    "print('Precision = {:.3f}%'.format(100 * (tp)/(fp+tp)))"
   ]
  },
  {
   "cell_type": "markdown",
   "metadata": {},
   "source": [
    "## 0.1.他の説明変数についても考察してみる"
   ]
  },
  {
   "cell_type": "markdown",
   "metadata": {},
   "source": [
    "Day1で考察した説明変数以外にも使える変数がないか考察してみる。"
   ]
  },
  {
   "cell_type": "markdown",
   "metadata": {},
   "source": [
    "### 【仮説１】期間について成功、失敗に影響するのではないか？"
   ]
  },
  {
   "cell_type": "code",
   "execution_count": 2,
   "metadata": {},
   "outputs": [
    {
     "data": {
      "text/html": [
       "<div>\n",
       "<style scoped>\n",
       "    .dataframe tbody tr th:only-of-type {\n",
       "        vertical-align: middle;\n",
       "    }\n",
       "\n",
       "    .dataframe tbody tr th {\n",
       "        vertical-align: top;\n",
       "    }\n",
       "\n",
       "    .dataframe thead th {\n",
       "        text-align: right;\n",
       "    }\n",
       "</style>\n",
       "<table border=\"1\" class=\"dataframe\">\n",
       "  <thead>\n",
       "    <tr style=\"text-align: right;\">\n",
       "      <th></th>\n",
       "      <th>state</th>\n",
       "      <th>period</th>\n",
       "      <th>days</th>\n",
       "    </tr>\n",
       "  </thead>\n",
       "  <tbody>\n",
       "    <tr>\n",
       "      <th>5</th>\n",
       "      <td>1</td>\n",
       "      <td>34 days 10:21:33</td>\n",
       "      <td>34</td>\n",
       "    </tr>\n",
       "    <tr>\n",
       "      <th>6</th>\n",
       "      <td>1</td>\n",
       "      <td>19 days 05:29:16</td>\n",
       "      <td>19</td>\n",
       "    </tr>\n",
       "    <tr>\n",
       "      <th>11</th>\n",
       "      <td>1</td>\n",
       "      <td>29 days 17:17:02</td>\n",
       "      <td>29</td>\n",
       "    </tr>\n",
       "    <tr>\n",
       "      <th>14</th>\n",
       "      <td>1</td>\n",
       "      <td>27 days 04:15:42</td>\n",
       "      <td>27</td>\n",
       "    </tr>\n",
       "    <tr>\n",
       "      <th>18</th>\n",
       "      <td>1</td>\n",
       "      <td>14 days 09:48:28</td>\n",
       "      <td>14</td>\n",
       "    </tr>\n",
       "  </tbody>\n",
       "</table>\n",
       "</div>"
      ],
      "text/plain": [
       "    state           period  days\n",
       "5       1 34 days 10:21:33    34\n",
       "6       1 19 days 05:29:16    19\n",
       "11      1 29 days 17:17:02    29\n",
       "14      1 27 days 04:15:42    27\n",
       "18      1 14 days 09:48:28    14"
      ]
     },
     "metadata": {},
     "output_type": "display_data"
    }
   ],
   "source": [
    "import datetime as dt\n",
    "# 'deadline' 'launched' の項目をdatetimeに変更\n",
    "df_f18_SorF['deadline'] = pd.to_datetime(df_f18_SorF['deadline'], errors = 'coerce')\n",
    "df_f18_SorF['launched'] = pd.to_datetime(df_f18_SorF['launched'], errors = 'coerce')\n",
    "# 'deadline' 'launched' の間の日数を示す'period'を作成\n",
    "df_f18_SorF['period'] = df_f18_SorF['deadline'] - df_f18_SorF['launched']\n",
    "\n",
    "days = []\n",
    "\n",
    "#'period'の日数を'days'に抽出\n",
    "for i in df_f18_SorF.index:\n",
    "    days.append(df_f18_SorF['period'][i].days)\n",
    "\n",
    "df_f18_SorF['days'] = days\n",
    "display(df_f18_SorF[['state','period','days']].head())\n"
   ]
  },
  {
   "cell_type": "code",
   "execution_count": 3,
   "metadata": {},
   "outputs": [],
   "source": [
    "#いったんCSVに出力する。\n",
    "df_f18_SorF.to_csv(\"df_f18_SorF.csv\")"
   ]
  },
  {
   "cell_type": "code",
   "execution_count": 1,
   "metadata": {},
   "outputs": [],
   "source": [
    "#********************************************************************\n",
    "# pandas,numpy,matplotlib,codecs,sklearnの各ライブラリをインポート\n",
    "#********************************************************************\n",
    "\n",
    "%matplotlib inline\n",
    "import pandas as pd\n",
    "import numpy as np\n",
    "import matplotlib.pyplot as plt\n",
    "import codecs as cd\n",
    "from sklearn.preprocessing import LabelEncoder\n",
    "from sklearn.linear_model import SGDClassifier\n",
    "from sklearn.metrics import log_loss, accuracy_score, confusion_matrix\n",
    "import seaborn as sns\n",
    "\n",
    "#********************************************************************\n",
    "#.該当課題のデータを読み込む\n",
    "#********************************************************************\n",
    "#201801のデータを読み込んでみる\n",
    "with cd.open('df_f18_SorF.csv', 'r', 'utf-8', 'ignore') as f18:\n",
    "    df_f18_SorF = pd.read_csv(f18)"
   ]
  },
  {
   "cell_type": "code",
   "execution_count": 2,
   "metadata": {},
   "outputs": [
    {
     "data": {
      "image/png": "[encoded data removed]",
      "text/plain": [
       "<Figure size 432x288 with 1 Axes>"
      ]
     },
     "metadata": {},
     "output_type": "display_data"
    }
   ],
   "source": [
    "#成功と、失敗でデータを分ける。\n",
    "df_f18_S = df_f18_SorF[df_f18_SorF['state']==1]\n",
    "df_f18_F = df_f18_SorF[df_f18_SorF['state']==0]\n",
    "\n",
    "#それぞれを'days'についてヒストグラムを書いてみる\n",
    "plt.hist([df_f18_S[\"days\"], df_f18_F[\"days\"]], stacked=False)\n",
    "plt.show()"
   ]
  },
  {
   "cell_type": "markdown",
   "metadata": {},
   "source": [
    "プロジェクト期間が長いほうが成功している割合が高いことがわかった。  \n",
    "プロジェクト期間（'days'）も説明変数として使ってみることとする。"
   ]
  },
  {
   "cell_type": "markdown",
   "metadata": {},
   "source": [
    "### 【仮説２】countryについて成功、失敗に影響するのではないか。"
   ]
  },
  {
   "cell_type": "code",
   "execution_count": 3,
   "metadata": {},
   "outputs": [
    {
     "data": {
      "image/png": "[encoded data removed]",
      "text/plain": [
       "<Figure size 432x288 with 1 Axes>"
      ]
     },
     "metadata": {},
     "output_type": "display_data"
    }
   ],
   "source": [
    "#それぞれを'country'についてヒストグラムを書いてみる\n",
    "plt.hist([df_f18_S[\"country\"], df_f18_F[\"country\"]], stacked=False)\n",
    "plt.show()"
   ]
  },
  {
   "cell_type": "markdown",
   "metadata": {},
   "source": [
    "成功率が高い国と、低い国があることがわかった。"
   ]
  },
  {
   "cell_type": "code",
   "execution_count": 17,
   "metadata": {},
   "outputs": [
    {
     "data": {
      "text/html": [
       "<div>\n",
       "<style scoped>\n",
       "    .dataframe tbody tr th:only-of-type {\n",
       "        vertical-align: middle;\n",
       "    }\n",
       "\n",
       "    .dataframe tbody tr th {\n",
       "        vertical-align: top;\n",
       "    }\n",
       "\n",
       "    .dataframe thead th {\n",
       "        text-align: right;\n",
       "    }\n",
       "</style>\n",
       "<table border=\"1\" class=\"dataframe\">\n",
       "  <thead>\n",
       "    <tr style=\"text-align: right;\">\n",
       "      <th></th>\n",
       "      <th>country</th>\n",
       "      <th>country_rate</th>\n",
       "    </tr>\n",
       "  </thead>\n",
       "  <tbody>\n",
       "    <tr>\n",
       "      <th>0</th>\n",
       "      <td>AT</td>\n",
       "      <td>0.242812</td>\n",
       "    </tr>\n",
       "    <tr>\n",
       "      <th>1</th>\n",
       "      <td>AU</td>\n",
       "      <td>0.300825</td>\n",
       "    </tr>\n",
       "    <tr>\n",
       "      <th>2</th>\n",
       "      <td>BE</td>\n",
       "      <td>0.306306</td>\n",
       "    </tr>\n",
       "    <tr>\n",
       "      <th>3</th>\n",
       "      <td>CA</td>\n",
       "      <td>0.333850</td>\n",
       "    </tr>\n",
       "    <tr>\n",
       "      <th>4</th>\n",
       "      <td>CH</td>\n",
       "      <td>0.300000</td>\n",
       "    </tr>\n",
       "    <tr>\n",
       "      <th>5</th>\n",
       "      <td>DE</td>\n",
       "      <td>0.281844</td>\n",
       "    </tr>\n",
       "    <tr>\n",
       "      <th>6</th>\n",
       "      <td>DK</td>\n",
       "      <td>0.372414</td>\n",
       "    </tr>\n",
       "    <tr>\n",
       "      <th>7</th>\n",
       "      <td>ES</td>\n",
       "      <td>0.253475</td>\n",
       "    </tr>\n",
       "    <tr>\n",
       "      <th>8</th>\n",
       "      <td>FR</td>\n",
       "      <td>0.352086</td>\n",
       "    </tr>\n",
       "    <tr>\n",
       "      <th>9</th>\n",
       "      <td>GB</td>\n",
       "      <td>0.408828</td>\n",
       "    </tr>\n",
       "    <tr>\n",
       "      <th>10</th>\n",
       "      <td>HK</td>\n",
       "      <td>0.458472</td>\n",
       "    </tr>\n",
       "    <tr>\n",
       "      <th>11</th>\n",
       "      <td>IE</td>\n",
       "      <td>0.303738</td>\n",
       "    </tr>\n",
       "    <tr>\n",
       "      <th>12</th>\n",
       "      <td>IT</td>\n",
       "      <td>0.184140</td>\n",
       "    </tr>\n",
       "    <tr>\n",
       "      <th>13</th>\n",
       "      <td>JP</td>\n",
       "      <td>0.285714</td>\n",
       "    </tr>\n",
       "    <tr>\n",
       "      <th>14</th>\n",
       "      <td>LU</td>\n",
       "      <td>0.324324</td>\n",
       "    </tr>\n",
       "    <tr>\n",
       "      <th>15</th>\n",
       "      <td>MX</td>\n",
       "      <td>0.273446</td>\n",
       "    </tr>\n",
       "    <tr>\n",
       "      <th>16</th>\n",
       "      <td>NL</td>\n",
       "      <td>0.249332</td>\n",
       "    </tr>\n",
       "    <tr>\n",
       "      <th>17</th>\n",
       "      <td>NO</td>\n",
       "      <td>0.278378</td>\n",
       "    </tr>\n",
       "    <tr>\n",
       "      <th>18</th>\n",
       "      <td>NZ</td>\n",
       "      <td>0.332026</td>\n",
       "    </tr>\n",
       "    <tr>\n",
       "      <th>19</th>\n",
       "      <td>SE</td>\n",
       "      <td>0.320693</td>\n",
       "    </tr>\n",
       "    <tr>\n",
       "      <th>20</th>\n",
       "      <td>SG</td>\n",
       "      <td>0.419014</td>\n",
       "    </tr>\n",
       "    <tr>\n",
       "      <th>21</th>\n",
       "      <td>US</td>\n",
       "      <td>0.419743</td>\n",
       "    </tr>\n",
       "  </tbody>\n",
       "</table>\n",
       "</div>"
      ],
      "text/plain": [
       "   country  country_rate\n",
       "0       AT      0.242812\n",
       "1       AU      0.300825\n",
       "2       BE      0.306306\n",
       "3       CA      0.333850\n",
       "4       CH      0.300000\n",
       "5       DE      0.281844\n",
       "6       DK      0.372414\n",
       "7       ES      0.253475\n",
       "8       FR      0.352086\n",
       "9       GB      0.408828\n",
       "10      HK      0.458472\n",
       "11      IE      0.303738\n",
       "12      IT      0.184140\n",
       "13      JP      0.285714\n",
       "14      LU      0.324324\n",
       "15      MX      0.273446\n",
       "16      NL      0.249332\n",
       "17      NO      0.278378\n",
       "18      NZ      0.332026\n",
       "19      SE      0.320693\n",
       "20      SG      0.419014\n",
       "21      US      0.419743"
      ]
     },
     "metadata": {},
     "output_type": "display_data"
    }
   ],
   "source": [
    "#'country'ごとにグループ化し、平均をとったデータフレームを作成する\n",
    "df_f18_gb_ct = df_f18_SorF.groupby('country',as_index=False)\n",
    "df_f18_gb_ct_mn = df_f18_gb_ct.mean()\n",
    "\n",
    "#'state'は成功が'1',失敗が'0'なので、'country'毎の'state'の平均は\n",
    "#その国の成功する割合（確率）と等価なので名称変更\n",
    "df_f18_gb_ct_mn = df_f18_gb_ct_mn.rename(columns={'state': 'country_rate'}) \n",
    "display(df_f18_gb_ct_mn[['country','country_rate']])\n",
    "\n",
    "\n",
    "#元のデータフレームに、国ごとの成功する確率を結合\n",
    "df_f18_SRate = pd.merge(df_f18_SorF, df_f18_gb_ct_mn[['country','country_rate']], on='country')"
   ]
  },
  {
   "cell_type": "markdown",
   "metadata": {},
   "source": [
    "国ごとの成功率(country_state_rate)も説明変数としてつかってみることにする。"
   ]
  },
  {
   "cell_type": "markdown",
   "metadata": {},
   "source": [
    "### 【仮説３】category，main_categoryについて成功、失敗に影響するのではないか。"
   ]
  },
  {
   "cell_type": "code",
   "execution_count": 14,
   "metadata": {},
   "outputs": [
    {
     "data": {
      "image/png": "[encoded data removed]",
      "text/plain": [
       "<Figure size 432x288 with 1 Axes>"
      ]
     },
     "metadata": {},
     "output_type": "display_data"
    },
    {
     "data": {
      "image/png": "[encoded data removed]",
      "text/plain": [
       "<Figure size 432x288 with 1 Axes>"
      ]
     },
     "metadata": {},
     "output_type": "display_data"
    }
   ],
   "source": [
    "#それぞれについてヒストグラムを書いてみる\n",
    "plt.hist([df_f18_S[\"category\"], df_f18_F[\"category\"]], stacked=False)\n",
    "plt.show()\n",
    "#それぞれについてヒストグラムを書いてみる\n",
    "plt.hist([df_f18_S[\"main_category\"], df_f18_F[\"main_category\"]], stacked=False)\n",
    "plt.show()"
   ]
  },
  {
   "cell_type": "markdown",
   "metadata": {},
   "source": [
    "'country'同様にカテゴリーごとに成功率が違うことが分かった。  "
   ]
  },
  {
   "cell_type": "code",
   "execution_count": 18,
   "metadata": {},
   "outputs": [
    {
     "data": {
      "text/html": [
       "<div>\n",
       "<style scoped>\n",
       "    .dataframe tbody tr th:only-of-type {\n",
       "        vertical-align: middle;\n",
       "    }\n",
       "\n",
       "    .dataframe tbody tr th {\n",
       "        vertical-align: top;\n",
       "    }\n",
       "\n",
       "    .dataframe thead th {\n",
       "        text-align: right;\n",
       "    }\n",
       "</style>\n",
       "<table border=\"1\" class=\"dataframe\">\n",
       "  <thead>\n",
       "    <tr style=\"text-align: right;\">\n",
       "      <th></th>\n",
       "      <th>main_category</th>\n",
       "      <th>main_category_rate</th>\n",
       "    </tr>\n",
       "  </thead>\n",
       "  <tbody>\n",
       "    <tr>\n",
       "      <th>0</th>\n",
       "      <td>Art</td>\n",
       "      <td>0.451686</td>\n",
       "    </tr>\n",
       "    <tr>\n",
       "      <th>1</th>\n",
       "      <td>Comics</td>\n",
       "      <td>0.587701</td>\n",
       "    </tr>\n",
       "    <tr>\n",
       "      <th>2</th>\n",
       "      <td>Crafts</td>\n",
       "      <td>0.275224</td>\n",
       "    </tr>\n",
       "    <tr>\n",
       "      <th>3</th>\n",
       "      <td>Dance</td>\n",
       "      <td>0.657432</td>\n",
       "    </tr>\n",
       "    <tr>\n",
       "      <th>4</th>\n",
       "      <td>Design</td>\n",
       "      <td>0.417008</td>\n",
       "    </tr>\n",
       "    <tr>\n",
       "      <th>5</th>\n",
       "      <td>Fashion</td>\n",
       "      <td>0.283365</td>\n",
       "    </tr>\n",
       "    <tr>\n",
       "      <th>6</th>\n",
       "      <td>Film &amp; Video</td>\n",
       "      <td>0.418766</td>\n",
       "    </tr>\n",
       "    <tr>\n",
       "      <th>7</th>\n",
       "      <td>Food</td>\n",
       "      <td>0.273291</td>\n",
       "    </tr>\n",
       "    <tr>\n",
       "      <th>8</th>\n",
       "      <td>Games</td>\n",
       "      <td>0.439428</td>\n",
       "    </tr>\n",
       "    <tr>\n",
       "      <th>9</th>\n",
       "      <td>Journalism</td>\n",
       "      <td>0.245217</td>\n",
       "    </tr>\n",
       "    <tr>\n",
       "      <th>10</th>\n",
       "      <td>Music</td>\n",
       "      <td>0.529035</td>\n",
       "    </tr>\n",
       "    <tr>\n",
       "      <th>11</th>\n",
       "      <td>Photography</td>\n",
       "      <td>0.341118</td>\n",
       "    </tr>\n",
       "    <tr>\n",
       "      <th>12</th>\n",
       "      <td>Publishing</td>\n",
       "      <td>0.348724</td>\n",
       "    </tr>\n",
       "    <tr>\n",
       "      <th>13</th>\n",
       "      <td>Technology</td>\n",
       "      <td>0.237157</td>\n",
       "    </tr>\n",
       "    <tr>\n",
       "      <th>14</th>\n",
       "      <td>Theater</td>\n",
       "      <td>0.635418</td>\n",
       "    </tr>\n",
       "  </tbody>\n",
       "</table>\n",
       "</div>"
      ],
      "text/plain": [
       "   main_category  main_category_rate\n",
       "0            Art            0.451686\n",
       "1         Comics            0.587701\n",
       "2         Crafts            0.275224\n",
       "3          Dance            0.657432\n",
       "4         Design            0.417008\n",
       "5        Fashion            0.283365\n",
       "6   Film & Video            0.418766\n",
       "7           Food            0.273291\n",
       "8          Games            0.439428\n",
       "9     Journalism            0.245217\n",
       "10         Music            0.529035\n",
       "11   Photography            0.341118\n",
       "12    Publishing            0.348724\n",
       "13    Technology            0.237157\n",
       "14       Theater            0.635418"
      ]
     },
     "metadata": {},
     "output_type": "display_data"
    }
   ],
   "source": [
    "#\"main_category\"ごとにグループ化し、平均をとったデータフレームを作成する\n",
    "df_f18_gb_mc = df_f18_SorF.groupby(\"main_category\",as_index=False)\n",
    "df_f18_gb_mc_mn = df_f18_gb_mc.mean()\n",
    "\n",
    "#'state'は成功が'1',失敗が'0'なので、'main_category'毎の'state'の平均は\n",
    "#そのメインカテゴリーの成功する割合（確率）と等価なので名称変更\n",
    "df_f18_gb_mc_mn = df_f18_gb_mc_mn.rename(columns={'state': 'main_category_rate'}) \n",
    "display(df_f18_gb_mc_mn[['main_category','main_category_rate']])\n",
    "\n",
    "#国ごとの成功率を追加したデータフレームに、メインカテゴリーごとの成功する確率を結合\n",
    "df_f18_SRate = pd.merge(df_f18_SRate, df_f18_gb_mc_mn[['main_category','main_category_rate']], on='main_category')"
   ]
  },
  {
   "cell_type": "code",
   "execution_count": 20,
   "metadata": {},
   "outputs": [
    {
     "data": {
      "text/html": [
       "<div>\n",
       "<style scoped>\n",
       "    .dataframe tbody tr th:only-of-type {\n",
       "        vertical-align: middle;\n",
       "    }\n",
       "\n",
       "    .dataframe tbody tr th {\n",
       "        vertical-align: top;\n",
       "    }\n",
       "\n",
       "    .dataframe thead th {\n",
       "        text-align: right;\n",
       "    }\n",
       "</style>\n",
       "<table border=\"1\" class=\"dataframe\">\n",
       "  <thead>\n",
       "    <tr style=\"text-align: right;\">\n",
       "      <th></th>\n",
       "      <th>category</th>\n",
       "      <th>category_rate</th>\n",
       "    </tr>\n",
       "  </thead>\n",
       "  <tbody>\n",
       "    <tr>\n",
       "      <th>0</th>\n",
       "      <td>3D Printing</td>\n",
       "      <td>0.408451</td>\n",
       "    </tr>\n",
       "    <tr>\n",
       "      <th>1</th>\n",
       "      <td>Academic</td>\n",
       "      <td>0.264151</td>\n",
       "    </tr>\n",
       "    <tr>\n",
       "      <th>2</th>\n",
       "      <td>Accessories</td>\n",
       "      <td>0.373451</td>\n",
       "    </tr>\n",
       "    <tr>\n",
       "      <th>3</th>\n",
       "      <td>Action</td>\n",
       "      <td>0.199468</td>\n",
       "    </tr>\n",
       "    <tr>\n",
       "      <th>4</th>\n",
       "      <td>Animals</td>\n",
       "      <td>0.265823</td>\n",
       "    </tr>\n",
       "    <tr>\n",
       "      <th>5</th>\n",
       "      <td>Animation</td>\n",
       "      <td>0.301083</td>\n",
       "    </tr>\n",
       "    <tr>\n",
       "      <th>6</th>\n",
       "      <td>Anthologies</td>\n",
       "      <td>0.697228</td>\n",
       "    </tr>\n",
       "    <tr>\n",
       "      <th>7</th>\n",
       "      <td>Apparel</td>\n",
       "      <td>0.236663</td>\n",
       "    </tr>\n",
       "    <tr>\n",
       "      <th>8</th>\n",
       "      <td>Apps</td>\n",
       "      <td>0.072260</td>\n",
       "    </tr>\n",
       "    <tr>\n",
       "      <th>9</th>\n",
       "      <td>Architecture</td>\n",
       "      <td>0.279012</td>\n",
       "    </tr>\n",
       "    <tr>\n",
       "      <th>10</th>\n",
       "      <td>Art</td>\n",
       "      <td>0.453244</td>\n",
       "    </tr>\n",
       "    <tr>\n",
       "      <th>11</th>\n",
       "      <td>Art Books</td>\n",
       "      <td>0.548177</td>\n",
       "    </tr>\n",
       "    <tr>\n",
       "      <th>12</th>\n",
       "      <td>Audio</td>\n",
       "      <td>0.314159</td>\n",
       "    </tr>\n",
       "    <tr>\n",
       "      <th>13</th>\n",
       "      <td>Bacon</td>\n",
       "      <td>0.240000</td>\n",
       "    </tr>\n",
       "    <tr>\n",
       "      <th>14</th>\n",
       "      <td>Blues</td>\n",
       "      <td>0.533333</td>\n",
       "    </tr>\n",
       "    <tr>\n",
       "      <th>15</th>\n",
       "      <td>Calendars</td>\n",
       "      <td>0.425150</td>\n",
       "    </tr>\n",
       "    <tr>\n",
       "      <th>16</th>\n",
       "      <td>Camera Equipment</td>\n",
       "      <td>0.536697</td>\n",
       "    </tr>\n",
       "    <tr>\n",
       "      <th>17</th>\n",
       "      <td>Candles</td>\n",
       "      <td>0.168067</td>\n",
       "    </tr>\n",
       "    <tr>\n",
       "      <th>18</th>\n",
       "      <td>Ceramics</td>\n",
       "      <td>0.505208</td>\n",
       "    </tr>\n",
       "    <tr>\n",
       "      <th>19</th>\n",
       "      <td>Children's Books</td>\n",
       "      <td>0.380321</td>\n",
       "    </tr>\n",
       "    <tr>\n",
       "      <th>20</th>\n",
       "      <td>Childrenswear</td>\n",
       "      <td>0.232210</td>\n",
       "    </tr>\n",
       "    <tr>\n",
       "      <th>21</th>\n",
       "      <td>Chiptune</td>\n",
       "      <td>0.782609</td>\n",
       "    </tr>\n",
       "    <tr>\n",
       "      <th>22</th>\n",
       "      <td>Civic Design</td>\n",
       "      <td>0.375691</td>\n",
       "    </tr>\n",
       "    <tr>\n",
       "      <th>23</th>\n",
       "      <td>Classical Music</td>\n",
       "      <td>0.681847</td>\n",
       "    </tr>\n",
       "    <tr>\n",
       "      <th>24</th>\n",
       "      <td>Comedy</td>\n",
       "      <td>0.434109</td>\n",
       "    </tr>\n",
       "    <tr>\n",
       "      <th>25</th>\n",
       "      <td>Comic Books</td>\n",
       "      <td>0.639798</td>\n",
       "    </tr>\n",
       "    <tr>\n",
       "      <th>26</th>\n",
       "      <td>Comics</td>\n",
       "      <td>0.547484</td>\n",
       "    </tr>\n",
       "    <tr>\n",
       "      <th>27</th>\n",
       "      <td>Community Gardens</td>\n",
       "      <td>0.257669</td>\n",
       "    </tr>\n",
       "    <tr>\n",
       "      <th>28</th>\n",
       "      <td>Conceptual Art</td>\n",
       "      <td>0.400000</td>\n",
       "    </tr>\n",
       "    <tr>\n",
       "      <th>29</th>\n",
       "      <td>Cookbooks</td>\n",
       "      <td>0.273356</td>\n",
       "    </tr>\n",
       "    <tr>\n",
       "      <th>...</th>\n",
       "      <td>...</td>\n",
       "      <td>...</td>\n",
       "    </tr>\n",
       "    <tr>\n",
       "      <th>129</th>\n",
       "      <td>Shorts</td>\n",
       "      <td>0.590217</td>\n",
       "    </tr>\n",
       "    <tr>\n",
       "      <th>130</th>\n",
       "      <td>Small Batch</td>\n",
       "      <td>0.350913</td>\n",
       "    </tr>\n",
       "    <tr>\n",
       "      <th>131</th>\n",
       "      <td>Software</td>\n",
       "      <td>0.146801</td>\n",
       "    </tr>\n",
       "    <tr>\n",
       "      <th>132</th>\n",
       "      <td>Sound</td>\n",
       "      <td>0.476608</td>\n",
       "    </tr>\n",
       "    <tr>\n",
       "      <th>133</th>\n",
       "      <td>Space Exploration</td>\n",
       "      <td>0.405714</td>\n",
       "    </tr>\n",
       "    <tr>\n",
       "      <th>134</th>\n",
       "      <td>Spaces</td>\n",
       "      <td>0.403922</td>\n",
       "    </tr>\n",
       "    <tr>\n",
       "      <th>135</th>\n",
       "      <td>Stationery</td>\n",
       "      <td>0.391667</td>\n",
       "    </tr>\n",
       "    <tr>\n",
       "      <th>136</th>\n",
       "      <td>Tabletop Games</td>\n",
       "      <td>0.672315</td>\n",
       "    </tr>\n",
       "    <tr>\n",
       "      <th>137</th>\n",
       "      <td>Taxidermy</td>\n",
       "      <td>0.333333</td>\n",
       "    </tr>\n",
       "    <tr>\n",
       "      <th>138</th>\n",
       "      <td>Technology</td>\n",
       "      <td>0.234544</td>\n",
       "    </tr>\n",
       "    <tr>\n",
       "      <th>139</th>\n",
       "      <td>Television</td>\n",
       "      <td>0.183673</td>\n",
       "    </tr>\n",
       "    <tr>\n",
       "      <th>140</th>\n",
       "      <td>Textiles</td>\n",
       "      <td>0.305195</td>\n",
       "    </tr>\n",
       "    <tr>\n",
       "      <th>141</th>\n",
       "      <td>Theater</td>\n",
       "      <td>0.656023</td>\n",
       "    </tr>\n",
       "    <tr>\n",
       "      <th>142</th>\n",
       "      <td>Thrillers</td>\n",
       "      <td>0.314721</td>\n",
       "    </tr>\n",
       "    <tr>\n",
       "      <th>143</th>\n",
       "      <td>Translations</td>\n",
       "      <td>0.223404</td>\n",
       "    </tr>\n",
       "    <tr>\n",
       "      <th>144</th>\n",
       "      <td>Typography</td>\n",
       "      <td>0.655738</td>\n",
       "    </tr>\n",
       "    <tr>\n",
       "      <th>145</th>\n",
       "      <td>Vegan</td>\n",
       "      <td>0.351097</td>\n",
       "    </tr>\n",
       "    <tr>\n",
       "      <th>146</th>\n",
       "      <td>Video</td>\n",
       "      <td>0.120690</td>\n",
       "    </tr>\n",
       "    <tr>\n",
       "      <th>147</th>\n",
       "      <td>Video Art</td>\n",
       "      <td>0.275862</td>\n",
       "    </tr>\n",
       "    <tr>\n",
       "      <th>148</th>\n",
       "      <td>Video Games</td>\n",
       "      <td>0.258797</td>\n",
       "    </tr>\n",
       "    <tr>\n",
       "      <th>149</th>\n",
       "      <td>Wearables</td>\n",
       "      <td>0.422297</td>\n",
       "    </tr>\n",
       "    <tr>\n",
       "      <th>150</th>\n",
       "      <td>Weaving</td>\n",
       "      <td>0.380000</td>\n",
       "    </tr>\n",
       "    <tr>\n",
       "      <th>151</th>\n",
       "      <td>Web</td>\n",
       "      <td>0.108343</td>\n",
       "    </tr>\n",
       "    <tr>\n",
       "      <th>152</th>\n",
       "      <td>Webcomics</td>\n",
       "      <td>0.596817</td>\n",
       "    </tr>\n",
       "    <tr>\n",
       "      <th>153</th>\n",
       "      <td>Webseries</td>\n",
       "      <td>0.332074</td>\n",
       "    </tr>\n",
       "    <tr>\n",
       "      <th>154</th>\n",
       "      <td>Woodworking</td>\n",
       "      <td>0.274820</td>\n",
       "    </tr>\n",
       "    <tr>\n",
       "      <th>155</th>\n",
       "      <td>Workshops</td>\n",
       "      <td>0.321839</td>\n",
       "    </tr>\n",
       "    <tr>\n",
       "      <th>156</th>\n",
       "      <td>World Music</td>\n",
       "      <td>0.484003</td>\n",
       "    </tr>\n",
       "    <tr>\n",
       "      <th>157</th>\n",
       "      <td>Young Adult</td>\n",
       "      <td>0.239651</td>\n",
       "    </tr>\n",
       "    <tr>\n",
       "      <th>158</th>\n",
       "      <td>Zines</td>\n",
       "      <td>0.502415</td>\n",
       "    </tr>\n",
       "  </tbody>\n",
       "</table>\n",
       "<p>159 rows × 2 columns</p>\n",
       "</div>"
      ],
      "text/plain": [
       "              category  category_rate\n",
       "0          3D Printing       0.408451\n",
       "1             Academic       0.264151\n",
       "2          Accessories       0.373451\n",
       "3               Action       0.199468\n",
       "4              Animals       0.265823\n",
       "5            Animation       0.301083\n",
       "6          Anthologies       0.697228\n",
       "7              Apparel       0.236663\n",
       "8                 Apps       0.072260\n",
       "9         Architecture       0.279012\n",
       "10                 Art       0.453244\n",
       "11           Art Books       0.548177\n",
       "12               Audio       0.314159\n",
       "13               Bacon       0.240000\n",
       "14               Blues       0.533333\n",
       "15           Calendars       0.425150\n",
       "16    Camera Equipment       0.536697\n",
       "17             Candles       0.168067\n",
       "18            Ceramics       0.505208\n",
       "19    Children's Books       0.380321\n",
       "20       Childrenswear       0.232210\n",
       "21            Chiptune       0.782609\n",
       "22        Civic Design       0.375691\n",
       "23     Classical Music       0.681847\n",
       "24              Comedy       0.434109\n",
       "25         Comic Books       0.639798\n",
       "26              Comics       0.547484\n",
       "27   Community Gardens       0.257669\n",
       "28      Conceptual Art       0.400000\n",
       "29           Cookbooks       0.273356\n",
       "..                 ...            ...\n",
       "129             Shorts       0.590217\n",
       "130        Small Batch       0.350913\n",
       "131           Software       0.146801\n",
       "132              Sound       0.476608\n",
       "133  Space Exploration       0.405714\n",
       "134             Spaces       0.403922\n",
       "135         Stationery       0.391667\n",
       "136     Tabletop Games       0.672315\n",
       "137          Taxidermy       0.333333\n",
       "138         Technology       0.234544\n",
       "139         Television       0.183673\n",
       "140           Textiles       0.305195\n",
       "141            Theater       0.656023\n",
       "142          Thrillers       0.314721\n",
       "143       Translations       0.223404\n",
       "144         Typography       0.655738\n",
       "145              Vegan       0.351097\n",
       "146              Video       0.120690\n",
       "147          Video Art       0.275862\n",
       "148        Video Games       0.258797\n",
       "149          Wearables       0.422297\n",
       "150            Weaving       0.380000\n",
       "151                Web       0.108343\n",
       "152          Webcomics       0.596817\n",
       "153          Webseries       0.332074\n",
       "154        Woodworking       0.274820\n",
       "155          Workshops       0.321839\n",
       "156        World Music       0.484003\n",
       "157        Young Adult       0.239651\n",
       "158              Zines       0.502415\n",
       "\n",
       "[159 rows x 2 columns]"
      ]
     },
     "metadata": {},
     "output_type": "display_data"
    }
   ],
   "source": [
    "#\"category\"ごとにグループ化し、平均をとったデータフレームを作成する\n",
    "df_f18_gb_cg = df_f18_SorF.groupby(\"category\",as_index=False)\n",
    "df_f18_gb_cg_mn = df_f18_gb_cg.mean()\n",
    "\n",
    "#'state'は成功が'1',失敗が'0'なので、'category'毎の'state'の平均は\n",
    "#そのカテゴリーの成功する割合（確率）と等価なので名称変更\n",
    "df_f18_gb_cg_mn = df_f18_gb_cg_mn.rename(columns={'state': 'category_rate'}) \n",
    "display(df_f18_gb_cg_mn[['category','category_rate']])\n",
    "\n",
    "#国ごとの成功率を追加したデータフレームに、カテゴリーごとの成功する確率を結合\n",
    "df_f18_SRate = pd.merge(df_f18_SRate, df_f18_gb_cg_mn[['category','category_rate']], on='category')"
   ]
  },
  {
   "cell_type": "markdown",
   "metadata": {},
   "source": [
    "## 0.2 新たに'days','country_rate','main_category_rate','category_rate'を加えてロジスティック回帰で分類してみる。"
   ]
  },
  {
   "cell_type": "code",
   "execution_count": 26,
   "metadata": {},
   "outputs": [
    {
     "name": "stdout",
     "output_type": "stream",
     "text": [
      "4235 14040\n",
      "109182 79532\n",
      "Accuracy  = 91.171%\n",
      "Recall    = 94.944%\n",
      "Precision = 84.996%\n"
     ]
    }
   ],
   "source": [
    "#********************************************************************\n",
    "#.ロジスティック回帰で分類してみる。\n",
    "#　「goal」、「backers」を有効そうな説明変数とする。\n",
    "#********************************************************************\n",
    "#目的変数'state'を正解としてyに格納\n",
    "y = df_f18_SRate['state'].values\n",
    "#説明変数'goal','backers'を入力としてXに格納\n",
    "X = df_f18_SRate[['goal', 'backers','days','country_rate','main_category_rate','category_rate']].values\n",
    "\n",
    "#ロジスティック回帰で学習\n",
    "clf = SGDClassifier(loss='log', penalty='none', max_iter=10000, fit_intercept=True, random_state=1234)\n",
    "clf.fit(X, y)\n",
    "\n",
    "#********************************************************************\n",
    "#.予測精度または識別精度を確認する\n",
    "#　混同行列を作成し、Accuracy、Recall、Precisionを求める\n",
    "#********************************************************************\n",
    "# 学習した結果を使って説明変数を入力して予測\n",
    "y_est = clf.predict(X)\n",
    "\n",
    "#混同行列を作成\n",
    "tn, fp, fn, tp = confusion_matrix(y, y_est).ravel()\n",
    "print(fn, fp)\n",
    "print(tn, tp)\n",
    "\n",
    "#'Accuracy、Recall、Precisionを求めて表示\n",
    "print('Accuracy  = {:.3f}%'.format(100 * (tn+tp)/(tn+fp+fn+tp)))\n",
    "print('Recall    = {:.3f}%'.format(100 * (tp)/(fn+tp)))\n",
    "print('Precision = {:.3f}%'.format(100 * (tp)/(fp+tp)))"
   ]
  },
  {
   "cell_type": "markdown",
   "metadata": {},
   "source": [
    "# １．交差検証、ホールドアウト法などで汎化性能を確認する  "
   ]
  },
  {
   "cell_type": "markdown",
   "metadata": {},
   "source": [
    "## 1.1. 欠測値と異常値を確認し、適切に処理する "
   ]
  },
  {
   "cell_type": "markdown",
   "metadata": {},
   "source": [
    "欠測値は、DAY１の段階で削除してしまっているので、説明変数の異常値について考察してみる。"
   ]
  },
  {
   "cell_type": "markdown",
   "metadata": {},
   "source": [
    "### 「goal」の異常値について考えてみる。"
   ]
  },
  {
   "cell_type": "code",
   "execution_count": 100,
   "metadata": {},
   "outputs": [
    {
     "data": {
      "image/png": "[encoded data removed]",
      "text/plain": [
       "<Figure size 432x288 with 1 Axes>"
      ]
     },
     "metadata": {},
     "output_type": "display_data"
    }
   ],
   "source": [
    "#'goal'についてヒストグラムを書いてみる\n",
    "plt.hist(df_f18_SRate['goal'],log=True)\n",
    "plt.show()"
   ]
  },
  {
   "cell_type": "code",
   "execution_count": 101,
   "metadata": {},
   "outputs": [
    {
     "data": {
      "text/plain": [
       "(19,)"
      ]
     },
     "metadata": {},
     "output_type": "display_data"
    },
    {
     "data": {
      "image/png": "[encoded data removed]",
      "text/plain": [
       "<Figure size 432x288 with 1 Axes>"
      ]
     },
     "metadata": {},
     "output_type": "display_data"
    },
    {
     "data": {
      "text/plain": [
       "1514      100000000.0\n",
       "58470     100000000.0\n",
       "68612     100000000.0\n",
       "86687     100000000.0\n",
       "93295     100000000.0\n",
       "93426     100000000.0\n",
       "95647     100000000.0\n",
       "96653     100000000.0\n",
       "128171    100000000.0\n",
       "135722    100000000.0\n",
       "166919    100000000.0\n",
       "170659    100000000.0\n",
       "172789    100000000.0\n",
       "184178    100000000.0\n",
       "185267    100000000.0\n",
       "186427    100000000.0\n",
       "194729    100000000.0\n",
       "196342    100000000.0\n",
       "201782    100000000.0\n",
       "Name: goal, dtype: float64"
      ]
     },
     "metadata": {},
     "output_type": "display_data"
    }
   ],
   "source": [
    "#ヒストグラムで少し離れている1e8のあたりに着目してみる。\n",
    "df_tmp = df_f18_SRate['goal'][df_f18_SRate['goal']>99999999]\n",
    "#件数数える\n",
    "display(df_tmp.shape)\n",
    "#ヒストグラム描いてみる\n",
    "plt.hist(df_tmp)\n",
    "plt.show()\n",
    "#データ見てみる\n",
    "display(df_tmp)"
   ]
  },
  {
   "cell_type": "markdown",
   "metadata": {},
   "source": [
    "'goal'は、100000000以上（上限？）の場合は、100000000にそろえられているように見える。  \n",
    "このレコードは学習の対象から外してみることにする。"
   ]
  },
  {
   "cell_type": "markdown",
   "metadata": {},
   "source": [
    "### 「backers」の異常値について考えてみる。"
   ]
  },
  {
   "cell_type": "code",
   "execution_count": 102,
   "metadata": {},
   "outputs": [
    {
     "data": {
      "image/png": "[encoded data removed]",
      "text/plain": [
       "<Figure size 432x288 with 1 Axes>"
      ]
     },
     "metadata": {},
     "output_type": "display_data"
    }
   ],
   "source": [
    "#'backers'についてヒストグラムを書いてみる\n",
    "plt.hist(df_f18_SRate['backers'],log=True)\n",
    "plt.show()"
   ]
  },
  {
   "cell_type": "code",
   "execution_count": 103,
   "metadata": {},
   "outputs": [
    {
     "data": {
      "text/plain": [
       "(2,)"
      ]
     },
     "metadata": {},
     "output_type": "display_data"
    },
    {
     "data": {
      "image/png": "[encoded data removed]",
      "text/plain": [
       "<Figure size 432x288 with 1 Axes>"
      ]
     },
     "metadata": {},
     "output_type": "display_data"
    },
    {
     "data": {
      "text/plain": [
       "98446     154926.0\n",
       "122168    219382.0\n",
       "Name: backers, dtype: float64"
      ]
     },
     "metadata": {},
     "output_type": "display_data"
    }
   ],
   "source": [
    "#ヒストグラムで少し離れている150000のあたりに着目してみる。\n",
    "df_tmp = df_f18_SRate['backers'][df_f18_SRate['backers']>150000]\n",
    "#件数数える\n",
    "display(df_tmp.shape)\n",
    "#ヒストグラム描いてみる\n",
    "plt.hist(df_tmp)\n",
    "plt.show()\n",
    "#データ見てみる\n",
    "display(df_tmp)"
   ]
  },
  {
   "cell_type": "markdown",
   "metadata": {},
   "source": [
    "2件大きな値があるので、外れ値（異常値）として学習データからのぞいてみる。"
   ]
  },
  {
   "cell_type": "markdown",
   "metadata": {},
   "source": [
    "### 異常値を除いたデータを使ってロジスティック回帰で分類してみる。"
   ]
  },
  {
   "cell_type": "code",
   "execution_count": 108,
   "metadata": {},
   "outputs": [
    {
     "data": {
      "text/plain": [
       "(206968, 21)"
      ]
     },
     "execution_count": 108,
     "metadata": {},
     "output_type": "execute_result"
    }
   ],
   "source": [
    "#####################################\n",
    "#異常値を除いたデータフレームを作る。\n",
    "#####################################\n",
    "#goalの異常値を除いたデータフレーム\n",
    "df_train = df_f18_SRate[df_f18_SRate['goal']<99999999]\n",
    "#さらに、backersの異常値を除いたデータフレーム\n",
    "df_train = df_train[df_train['backers']<150000]\n",
    "df_train.shape"
   ]
  },
  {
   "cell_type": "code",
   "execution_count": 109,
   "metadata": {},
   "outputs": [
    {
     "name": "stdout",
     "output_type": "stream",
     "text": [
      "4330 13839\n",
      "109364 79435\n",
      "Accuracy  = 91.221%\n",
      "Recall    = 94.831%\n",
      "Precision = 85.163%\n"
     ]
    }
   ],
   "source": [
    "#********************************************************************\n",
    "#.ロジスティック回帰で分類してみる。\n",
    "#　「goal」、「backers」を有効そうな説明変数とする。\n",
    "#********************************************************************\n",
    "#目的変数'state'を正解としてyに格納\n",
    "y = df_train['state'].values\n",
    "#説明変数'goal','backers','days','country_rate','main_category_rate','category_rate'を入力としてXに格納\n",
    "X = df_train[['goal', 'backers','days','country_rate','main_category_rate','category_rate']].values\n",
    "\n",
    "#ロジスティック回帰で学習\n",
    "clf = SGDClassifier(loss='log', penalty='none', max_iter=10000, fit_intercept=True, random_state=1234)\n",
    "clf.fit(X, y)\n",
    "\n",
    "#********************************************************************\n",
    "#.予測精度または識別精度を確認する\n",
    "#　混同行列を作成し、Accuracy、Recall、Precisionを求める\n",
    "#********************************************************************\n",
    "# 学習した結果を使って説明変数を入力して予測\n",
    "y_est = clf.predict(X)\n",
    "\n",
    "#混同行列を作成\n",
    "tn, fp, fn, tp = confusion_matrix(y, y_est).ravel()\n",
    "print(fn, fp)\n",
    "print(tn, tp)\n",
    "\n",
    "#'Accuracy、Recall、Precisionを求めて表示\n",
    "print('Accuracy  = {:.3f}%'.format(100 * (tn+tp)/(tn+fp+fn+tp)))\n",
    "print('Recall    = {:.3f}%'.format(100 * (tp)/(fn+tp)))\n",
    "print('Precision = {:.3f}%'.format(100 * (tp)/(fp+tp)))"
   ]
  },
  {
   "cell_type": "markdown",
   "metadata": {},
   "source": [
    "Accuracyが、91.171%から91.221%にわずかに向上。"
   ]
  },
  {
   "cell_type": "markdown",
   "metadata": {},
   "source": [
    "##  1.2. DAY2、3で学んだアルゴリズムを利用してモデルをつくり、DAY1宿題提出時の精度と比較する"
   ]
  },
  {
   "cell_type": "code",
   "execution_count": 111,
   "metadata": {},
   "outputs": [],
   "source": [
    "import numpy as np\n",
    "import pandas as pd\n",
    "import matplotlib.pyplot as plt\n",
    "%matplotlib inline\n",
    "from sklearn.svm import SVC\n",
    "from sklearn.preprocessing import StandardScaler\n",
    "from sklearn.model_selection import train_test_split, GridSearchCV\n",
    "import seaborn as sns"
   ]
  },
  {
   "cell_type": "code",
   "execution_count": null,
   "metadata": {},
   "outputs": [],
   "source": [
    "#********************************************************************\n",
    "#.SVMで分類してみる。\n",
    "#　'goal','backers','days','country_rate','main_category_rate','category_rate'を有効そうな説明変数とする。\n",
    "#********************************************************************\n",
    "#目的変数'state'を正解としてyに格納\n",
    "y = df_train['state'].values\n",
    "#説明変数'goal','backers','days','country_rate','main_category_rate','category_rate'を入力としてXに格納\n",
    "X = df_train[['goal', 'backers','days','country_rate','main_category_rate','category_rate']].values\n",
    "\n",
    "# SVMのパラメータ設定\n",
    "C = 5\n",
    "kernel = \"rbf\"\n",
    "gamma = 1\n",
    "\n",
    "# SVMで学習\n",
    "clf_SVM = SVC(C=C, kernel=kernel, gamma=gamma)\n",
    "clf_SVM.fit(X, y)\n",
    "\n",
    "#********************************************************************\n",
    "#.識別精度を確認する\n",
    "#　混同行列を作成し、Accuracy、Recall、Precisionを求める\n",
    "#********************************************************************\n",
    "# 学習した結果を使って説明変数を入力して予測\n",
    "y_est = clf_SVM.predict(X)\n",
    "\n",
    "#混同行列を作成\n",
    "tn, fp, fn, tp = confusion_matrix(y, y_est).ravel()\n",
    "print(fn, fp)\n",
    "print(tn, tp)\n",
    "\n",
    "#'Accuracy、Recall、Precisionを求めて表示\n",
    "print('Accuracy  = {:.3f}%'.format(100 * (tn+tp)/(tn+fp+fn+tp)))\n",
    "print('Recall    = {:.3f}%'.format(100 * (tp)/(fn+tp)))\n",
    "print('Precision = {:.3f}%'.format(100 * (tp)/(fp+tp)))"
   ]
  },
  {
   "cell_type": "markdown",
   "metadata": {},
   "source": [
    "### 1.3. 交差検証によるパラメータチューニングを行う"
   ]
  },
  {
   "cell_type": "code",
   "execution_count": null,
   "metadata": {},
   "outputs": [],
   "source": [
    "# ホールドアウト法に関する関数\n",
    "from sklearn.model_selection import train_test_split\n",
    "# 交差検証法に関する関数\n",
    "from sklearn.model_selection import KFold\n",
    "# 回帰問題における性能評価に関する関数\n",
    "from sklearn.metrics import mean_absolute_error"
   ]
  },
  {
   "cell_type": "code",
   "execution_count": null,
   "metadata": {},
   "outputs": [],
   "source": [
    "# scikit-learnに入力するために整形\n",
    "X = x.reshape(-1,1)\n",
    "# 全データのうち、何%をテストデータにするか（今回は20%に設定）\n",
    "test_size = 0.2\n",
    "# ホールドアウト法を実行（テストデータはランダム選択）\n",
    "#X_train : 学習用データの説明変数\n",
    "#X_test : テスト用データの説明変数\n",
    "#y_train : 学習用データの目的変数\n",
    "#y_test : テスト用データの目的変数\n",
    "X_train, X_test, y_train, y_test = train_test_split(X, y, test_size=test_size, random_state=1234) \n"
   ]
  },
  {
   "cell_type": "code",
   "execution_count": null,
   "metadata": {},
   "outputs": [],
   "source": [
    "# scikit-learnに入力するために整形\n",
    "X = X.reshape(-1,1)\n",
    "# グループ数を設定（今回は5分割）\n",
    "n_split = 5 \n",
    "\n",
    "#評価値と試行回数を初期化\n",
    "cross_valid_acc = 0\n",
    "cross_valid_rec = 0\n",
    "cross_valid_pre = 0\n",
    "test_num = 1\n",
    "\n",
    "# テスト役を交代させながら学習と評価を繰り返す\n",
    "for train_idx, test_idx in KFold(n_splits=n_split, random_state=1234).split(X, y):\n",
    "    #学習用データ\n",
    "    X_train, y_train = X[train_idx], y[train_idx] \n",
    "    #テスト用データ\n",
    "    X_test, y_test = X[test_idx], y[test_idx]     \n",
    "    \n",
    "    # 学習用データを使ってSVMでモデルを学習\n",
    "    # SVMのパラメータ設定\n",
    "    C = 5\n",
    "    kernel = \"rbf\"\n",
    "    gamma = 1\n",
    "    \n",
    "    # SVMで学習\n",
    "    clf_SVM = SVC(C=C, kernel=kernel, gamma=gamma)\n",
    "    clf_SVM.fit(X_train, y_train)\n",
    "\n",
    "    # テストデータに対する予測を実行\n",
    "    y_pred_test = regr.predict(X_test)\n",
    "\n",
    "    #混同行列を作成\n",
    "    tn, fp, fn, tp = confusion_matrix(y, y_est).ravel()\n",
    "    print(fn, fp)\n",
    "    print(tn, tp)\n",
    "\n",
    "    Acc = 100 * (tn+tp)/(tn+fp+fn+tp)\n",
    "    Rec = 100 * (tp)/(fn+tp)\n",
    "    Pre = 100 * (tp)/(fp+tp)\n",
    "\n",
    "    #'Accuracy、Recall、Precisionを求めて表示\n",
    "    print('N  = %s'%test_num)\n",
    "    print('Accuracy  = {:.3f}%'.format(Acc))\n",
    "    print('Recall    = {:.3f}%'.format(Rec))\n",
    "    print('Precision = {:.3f}%'.format(Pre))\n",
    "    \n",
    "    cross_valid_acc += Acc #後で平均を取るためにAccuracyを加算\n",
    "    cross_valid_rec += Rec #後で平均を取るためにRecallを加算\n",
    "    cross_valid_pre += Pre #後で平均を取るためにPreciionを加算\n",
    "    test_num += 1\n",
    "\n",
    "# 各指標の平均値を最終的な汎化誤差値とする\n",
    "final_acc = cross_valid_acc / n_split\n",
    "final_rec = cross_valid_rec / n_split\n",
    "final_pre = cross_valid_pre / n_split\n",
    "print(\"Cross Validation Accuracy  = %s\"%round(final_acc, 3))\n",
    "print(\"Cross Validation Recall  = %s\"%round(final_rec, 3))\n",
    "print(\"Cross Validation Precision  = %s\"%round(final_pre, 3))"
   ]
  },
  {
   "cell_type": "markdown",
   "metadata": {},
   "source": [
    "### 1.4. パラメータチューニング後のモデルによって、精度および結果の評価を行う"
   ]
  },
  {
   "cell_type": "markdown",
   "metadata": {},
   "source": [
    "### 1.5. その他、精度の向上ができるような処理に取り組み、精度を上げる"
   ]
  },
  {
   "cell_type": "markdown",
   "metadata": {},
   "source": [
    "### 1.6. できたところまでをNotebookでまとめ、宿題として提出する  "
   ]
  },
  {
   "cell_type": "markdown",
   "metadata": {},
   "source": [
    "### 1.7. 前回から取り組んだ内容・工夫、精度がどのように変化したかのコメントを Notebookに含めること "
   ]
  },
  {
   "cell_type": "markdown",
   "metadata": {},
   "source": [
    "### 1.8. 15分程度，受講者同士で通し課題の進捗を見せ合う時間を設けます"
   ]
  },
  {
   "cell_type": "code",
   "execution_count": null,
   "metadata": {},
   "outputs": [],
   "source": []
  }
 ],
 "metadata": {
  "kernelspec": {
   "display_name": "Python 3",
   "language": "python",
   "name": "python3"
  },
  "language_info": {
   "codemirror_mode": {
    "name": "ipython",
    "version": 3
   },
   "file_extension": ".py",
   "mimetype": "text/x-python",
   "name": "python",
   "nbconvert_exporter": "python",
   "pygments_lexer": "ipython3",
   "version": "3.6.4"
  }
 },
 "nbformat": 4,
 "nbformat_minor": 2
}
